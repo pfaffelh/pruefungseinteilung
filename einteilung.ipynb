{
 "cells": [
  {
   "cell_type": "markdown",
   "id": "57bd331d",
   "metadata": {},
   "source": [
    "## Einteilung von Prüfungen der Grundvorlesungen\n",
    "\n",
    "Dieses Notebook erstellt auf Grundlage der Anmeldungen in HisInOne, den Prüferwünschen von Studierenden und den von Prüfern angegebenen Zeiten einen Prüfungsplan. Nötige Input-Dateien heißen hier A_..., B_..., die Output-Dateien sind mit 01_..., 02_..., nummeriert."
   ]
  },
  {
   "cell_type": "markdown",
   "id": "02aae8a0",
   "metadata": {
    "tags": []
   },
   "source": [
    "## 1. Einlesen der Anmeldungen aus HisInOne\n",
    "\n",
    "Wir lesen zunächst die Daten aus HisInOne aus einer xls-Tabelle hisinone_xls ein. Diese hat die folgende Form: Das xls-File enthält ab Zeile 2:\n",
    "\n",
    "- In Spalte A eine Prüfungsnummer der Form 07LE23PL-<prüfungsordnung>-P-<prüfungsfach>, wobei <prüfungsordnung> etwa 2HfB21 ist, und <prüfungsfach> etwa Ana oder LA ist. Aus dieser Spalte wird mit Hilfe der Datei _prüfungsnummern_csv_ die Information generiert um welchen Studiengang und welche Prüfung es sich handelt.\n",
    "- In Spalte B der Nachname des Prüflings.\n",
    "- In Spalte C den Vornamen des Prüflings.\n",
    "- In Spalte D die Immatrikulationsnummer.\n",
    "\n",
    "Falls mehrere xls-Dateien aus HisInOne vorliegen, kopiert man am besten die entsprechenden Spalten\n",
    "in eine Datei zusammen. Alle diese Anmeldungen werden in einer Datei _anmeldungen_hisinone_csv_ abgelegt."
   ]
  },
  {
   "cell_type": "code",
   "execution_count": null,
   "id": "099a7827",
   "metadata": {
    "tags": []
   },
   "outputs": [],
   "source": [
    "# Input\n",
    "anmeldungen_from_hisinone_csv = 'A_HisInOne.csv'\n",
    "prüfungsnummern_csv = \"B_pruefungsnummern.csv\"\n",
    "\n",
    "# Output\n",
    "anmeldungen_hisinone_csv = '01_HisInOne.csv'\n",
    "\n",
    "# Ausführung\n",
    "# Here is a python script where all important functions are stored:\n",
    "%run einteilung.py\n",
    "\n",
    "anmeldungen_hisinone = get_anmeldungen_from_hisinone(anmeldungen_from_hisinone_csv, prüfungsnummern_csv)\n",
    "\n",
    "#Store the csv File\n",
    "anmeldungen_hisinone.to_csv(anmeldungen_hisinone_csv, encoding='utf-8', index=False)\n",
    "print(f\"Das Ergebnis liegt in {anmeldungen_hisinone_csv} vor.\")\n"
   ]
  },
  {
   "cell_type": "markdown",
   "id": "4747f926",
   "metadata": {},
   "source": [
    "## 2. Einlesen der Anmeldungen aus dem www-Interface\n",
    "\n",
    "Zunächst werden aus dem Ordner _anmeldung_www_folder_ alle Dateien geladen. Jeder Prüfling hat dort ein File, und dieses File hat nur eine Zeile von der Form\n",
    "\n",
    "{'wunsch1': 'junker', 'matrnr': '4999984', 'wunsch3': 'martin', 'vorname': 'Viktor', 'studiengang': 'bsc', 'nachname': 'Krause', 'pruefung': 'analysis', 'wunsch2': 'criens'}\n",
    "\n",
    "Ist pruefung==analysis, so wird unterschieden zwischen studiengang=lehramt (dann Prüfung Analysis I+II) und studiengang=bsc (dann Prüfung in Analysis I-III). \n",
    "\n",
    "Das Ergebnis wird in zwei Dateien _anmeldungen_www_csv_ und _anmeldungen_www_ohne_duplikate_csv_ ausgegeben."
   ]
  },
  {
   "cell_type": "code",
   "execution_count": null,
   "id": "72c8c9c5",
   "metadata": {
    "tags": []
   },
   "outputs": [],
   "source": [
    "# Input \n",
    "# Alle Anmeldungen liegen im Arbeitsverzeichnis im Order anmeldungen_www_folder. \n",
    "\n",
    "anmeldungen_www_folder = \"anmeldungen_www\"\n",
    "\n",
    "# Output\n",
    "anmeldungen_www_csv = \"02_anmeldungen_www.csv\" \n",
    "anmeldungen_www_ohne_duplikate_csv = \"03_anmeldungen_www_ohne_duplikate.csv\" \n",
    "\n",
    "# Ausführung\n",
    "# Here is a python script where all important functions are stored:\n",
    "%run einteilung.py\n",
    "\n",
    "anmeldungen_www = get_anmeldungen_from_www(\"anmeldungen_www\")\n",
    "\n",
    "# Store the csv File\n",
    "anmeldungen_www.to_csv(anmeldungen_www_csv, encoding='utf-8', index=False)\n",
    "print(f\"Das Ergebnis liegt in {anmeldungen_www_csv} vor.\")\n",
    "\n",
    "# Now delete duplicates, i.e. for every pair (Matrikelnummer, Fach) choose the largest id\n",
    "anmeldungen_www_ohne_duplikate = anmeldungen_www.drop_duplicates(subset = ['Matrikelnummer', 'Fach'], keep = 'last')\n",
    "anmeldungen_www_ohne_duplikate.reset_index(drop=True, inplace=True)\n",
    "\n",
    "print(f\"{len(anmeldungen_www_ohne_duplikate)} übrig nach Entfernen von Duplikaten.\")\n",
    "# Store the csv File\n",
    "anmeldungen_www_ohne_duplikate.to_csv(anmeldungen_www_ohne_duplikate_csv, encoding='utf-8', index=False)\n",
    "print(f\"Das Ergebnis liegt in {anmeldungen_www_ohne_duplikate_csv} vor.\")\n"
   ]
  },
  {
   "cell_type": "markdown",
   "id": "550d115b",
   "metadata": {},
   "source": [
    "## 3. Abgleich der HisInOne-Anmeldungen mit den www-Anmeldungen\n",
    "\n",
    "Es werden nun zwei Listen ausgegeben:\n",
    "\n",
    "1. Anmeldungen von Studierenden, die sich über HisInOne angemeldet haben, aber keine Prüferwünsche angegeben haben.\n",
    "2. Abgabe von Prüferwünschen von Studierenden, die sich nicht auf HisInOne angemeldet haben.\n",
    "\n",
    "Es kann sińnvoll sein, den Input-Dateien nun die Endung _final.csv_ zu geben, falls man Dateien, die oben erzeugt wurden, per Hand editiert hat. Dies kann verhindern, dass man aus Versehen bereits verrichtete Arbeit überschreibt."
   ]
  },
  {
   "cell_type": "code",
   "execution_count": null,
   "id": "ddc5b889",
   "metadata": {},
   "outputs": [],
   "source": [
    "# Input-Dateien von oben\n",
    "anmeldungen_hisinone_csv = '01_HisInOne.csv'\n",
    "anmeldungen_www_ohne_duplikate_csv = \"03_anmeldungen_www_ohne_duplikate.csv\" \n",
    "\n",
    "# Output: Siehe unter diesem Chunk\n",
    "\n",
    "# Ausführung\n",
    "# Here is a python script where all important functions are stored:\n",
    "%run einteilung.py\n",
    "\n",
    "compare_anmeldungen_hisinone_www(anmeldungen_hisinone_csv, anmeldungen_www_ohne_duplikate_csv)\n"
   ]
  },
  {
   "cell_type": "markdown",
   "id": "66147ea5",
   "metadata": {},
   "source": [
    "## 4. Vergabe der Prüfungen\n",
    "\n",
    "In der Datei _prüferwünsche_csv_ werden die Daten der Prüfer gesammelt. Jede Zeile ist von der Form\n",
    "\n",
    "Kurzname, Vorname, Nachname, Prüfungszahl, Analysis I+II, Ana1ysis I-III, LA\n",
    "\n",
    "also etwa\n",
    "\n",
    "bartels, Sören, Bartels, 12, 1, 1, 0\n",
    "\n",
    "Dabei bedeutet der vierte Eintrag die maximale Anzahl an Prüfungen. Einträge 5-7 geben an, ob\n",
    "der Prüfer Analysis|2HfB (d.h. Analysis 1, 2), Analysis|BSc (d.h. Analysis 1, 2, 3) und/oder \n",
    "Lineare Algebra prüft.\n",
    "Hinweis: Dieses Format weicht vom Format des bisherigen Programms ab!\n",
    "\n",
    "Es erfolgt die Optimierung mit Hilfe des Vektors _weights_, etwa\n",
    "\n",
    "weights = (0, 2, 5, 10, 1000)\n",
    "\n",
    "Dies bedeutet, dass ein Prüfling, der zu _wunsch1_ zugeordnet wird, die Zielfunktion nicht, der zu _wunsch2_ zugeordnet wird um 2, der zu _wunsch3_ zugeordnet wird um 5, der zu keinem der Prüferwünsche zugeordnet wird um 10 (bzw. 1000) erhöht, falls der Prüfer dieses Fach (nicht) anbietet. Diese Gewichte sind die Basis der folgenden Optimierung der Zielfunktion.\n",
    "\n",
    "Es werden dabei alle Prüflinge in _03_anmeldungen_hisinone_csv_ eingeteilt, wobei die Prüferwunsch-Daten aus _anmeldungen_www_ohne_duplikate_csv_ eingelesen werden. Die Ausgabe einiger Statistiken, etwa wieviele Prüflinge zum Erst-, \n",
    "Zweit-, und Drittwunsch zugeordnet wurden. Weiter wird _04_zuordnungen_csv_ erzeugt, die _03_anmeldungen_hisinone_csv_ um die zusätzlichen Prüflinge aus _anmeldungen_www_ohne_duplikate_csv_ und eine Spalte mit dem Kurznamen des Prüfers erweitert. Außerdem wird nach Prüfern und Fächern sortiert.\n",
    "\n",
    "Noch etwas genauer geht der Algorithmus wiefolgt vor:\n",
    "- Ordne die Prüflingen den Prüfern anhand weights zu;\n",
    "- Reduziere die Anzahl der Prüfungen pro Prüfer (angefangen mit dem Prüfer mit der momentan maximalen Anzahl an Prüfungen;\n",
    "- Stoppe, wenn entweder _max_iterations_ erreicht wurde, oder die Zielgröße um mehr als _max_malus_ gestiegen ist, oder weniger\n",
    "Prüfungsslots and Prüfungen verfügbar sind.\n"
   ]
  },
  {
   "cell_type": "code",
   "execution_count": null,
   "id": "fef636e6",
   "metadata": {},
   "outputs": [],
   "source": [
    "# Input\n",
    "prüferwünsche_csv = \"C_prueferwuensche.csv\"\n",
    "anmeldungen_hisinone_csv = '01_HisInOne.csv'\n",
    "anmeldungen_www_ohne_duplikate_csv = \"03_anmeldungen_www_ohne_duplikate.csv\" \n",
    "\n",
    "# Konfiguration des Algorithmus\n",
    "# weights gibt die Gewichte an, falls zu wunsch1-3 oder zu keinem der drei Wünsche zugeordnet wird, oder zu einem andere Prüfer, \n",
    "# oder zu einem Prüfer, der das Fach gar nicht prüft.\n",
    "weights = np.array([0, 2, 5, 10, 1000])\n",
    "# Maximale Anzahl an Iterationen, bei denen die maximale Anzahl pro Prüfer reduziert wird um die Prüfungne möglichst gleichmäßig zu verteilen.\n",
    "max_iterations = 200\n",
    "# Maximaler Malus für gleichverteilte Prüfungen\n",
    "max_malus = 0\n",
    "\n",
    "# Output \n",
    "zuordnungen_csv = \"04_zuordnungen.csv\"\n",
    "\n",
    "# Ausführung\n",
    "# Wie oben müssen wir das wichtige Skript laufen lassn.\n",
    "%run einteilung.py\n",
    "\n",
    "zuordnungen, gesamtkosten = get_zuordnungen(prüferwünsche_csv, anmeldungen_hisinone_csv, anmeldungen_www_ohne_duplikate_csv, weights, max_iterations=max_iterations, max_malus = max_malus)\n",
    "print(f\"Gesamtkosten: {gesamtkosten}\")\n",
    "zuordnungen.to_csv(zuordnungen_csv, encoding='utf-8', index=False)\n",
    "print(f\"Alle Prüflinge erfolgreich zugeordnet. Das Ergebnis ist in {zuordnungen_csv}.\")\n",
    "get_statistiken_from_zuordnungen(zuordnungen_csv, prüferwünsche_csv)"
   ]
  },
  {
   "cell_type": "markdown",
   "id": "27809851-afb6-4737-b742-cc7fd3d1677d",
   "metadata": {},
   "source": [
    "## 5. Einteilung der Prüfungsslots\n",
    "\n",
    "Nun ist _prüfungsslots_csv_ eine Datei mit dem Format \n",
    "\n",
    "Kurzname, Datum, Uhrzeit, Raum\n",
    "\n",
    "bei der Prüfer angeben, welche Prüfungsslots sie anbieten. (Das Datum muss in der Form (DD.MM.YY), die Uhrzeit in der Form HH:MM:SS angegeben sein.) \n",
    "\n",
    "Es weden nun Prüfungsanzahlen pro Prüfer aus _prüferwünsche_csv_, _zuordnungen_csv_ und _prüfungsslots_csv_ verglichen. Es sollte für jeden Prüfer _prüferwünsche_csv_ >= _#prüfungsslots_csv_>= #_zuordnungen_csv_ gelten. Ist die erste Ungleichung verletzt, wird eine Warnung ausgegeben. Ist die zweite Ungleichung verletzt, wird ein Fehler ausgegeben und es findet keine Einteilung statt."
   ]
  },
  {
   "cell_type": "code",
   "execution_count": null,
   "id": "1ea1739d-3258-4605-a0c7-6f7956ea7c42",
   "metadata": {},
   "outputs": [],
   "source": [
    "# Input\n",
    "zuordnungen_csv = \"04_zuordnungen.csv\"\n",
    "prüferwünsche_csv = \"C_prueferwuensche.csv\"\n",
    "prüfungsslots_csv = \"D_pruefungsslots.csv\"\n",
    "\n",
    "# Output\n",
    "prüfungsslots_mit_prüfungs_ids_csv = \"05_pruefungsslots_mit_pruefungs_ids.csv\"\n",
    "\n",
    "# Ausführung\n",
    "# Wie oben müssen wir das wichtige Skript laufen lassn.\n",
    "%run einteilung.py\n",
    "    \n",
    "err = check_prüferwünsche_und_slots(prüferwünsche_csv, zuordnungen_csv, prüfungsslots_csv)    \n",
    "\n",
    "if(err == True):\n",
    "    print(f\"Eine Zuordnung der Prüfer auf die Prüfungsslots ist nicht möglich. \")\n",
    "else:\n",
    "    prüfungsslots_mit_prüfungs_ids = make_zuordnungen_zu_slots(prüfungsslots_csv, zuordnungen_csv)\n",
    "    prüfungsslots_mit_prüfungs_ids.to_csv(prüfungsslots_mit_prüfungs_ids_csv, encoding='utf-8', index=False)\n",
    "    print(f\"Alle Prüfungsslots erfolgreich zugeordnet. Das Ergebnis ist in {prüfungsslots_mit_prüfungs_ids_csv}.\")"
   ]
  },
  {
   "cell_type": "markdown",
   "id": "47689f63-2ad1-4260-a03d-a9726b43d64c",
   "metadata": {
    "jupyter": {
     "outputs_hidden": true
    },
    "tags": []
   },
   "source": [
    "\n",
    "## 6. Erstellung des Prüfungsplans\n",
    "\n",
    "Basierend auf dem Output des letzten Chunks _prüfungsslots_mit_prüfungs_ids_csv_ wird nun der Prüfungsplan erstellt. Dieser Output hatte die Form\n",
    "\n",
    "Kurzname, Datum, Uhrzeit, Raum, prüfungs_id\n",
    "\n",
    "Es muss also noch der Kurzname des Prüfers in den vollen Namen ergänzt werden, und weiter Details der prüfungs_id um die Daten des Prüflings und der Prüfung ergänzt werden. Ergebnis ist einerseits eine Excel-Tabelle mit dem fertigen Prüfungsplan, aber auch eine csv-Datei mit allen Informationen.\n"
   ]
  },
  {
   "cell_type": "code",
   "execution_count": null,
   "id": "85bcdcba-101c-45fa-8c78-05f24666d5d8",
   "metadata": {},
   "outputs": [],
   "source": [
    "# Input\n",
    "prüfungsslots_mit_prüfungs_ids_csv = \"05_pruefungsslots_mit_pruefungs_ids.csv\"\n",
    "zuordnungen_csv = \"04_zuordnungen.csv\"\n",
    "prüferwünsche_csv = \"C_prueferwuensche.csv\" # Hier stehen Vor- und Nachname der Prüfer\n",
    "\n",
    "# Output\n",
    "prüfungsplan_csv = \"06_pruefungsplan.csv\"\n",
    "prüfungsplan_xls = \"06_pruefungsplan.xlsx\"\n",
    "\n",
    "# Ausführung\n",
    "# Wie oben müssen wir das wichtige Skript laufen lassn.\n",
    "%run einteilung.py\n",
    "\n",
    "prüfungsplan = make_prüfungsplan(prüfungsslots_mit_prüfungs_ids_csv, zuordnungen_csv, prüferwünsche_csv)\n",
    "prüfungsplan.to_csv(prüfungsplan_csv, encoding='utf-8', index=False)\n",
    "\n",
    "writer = pd.ExcelWriter(prüfungsplan_xls)\n",
    "prüfungsplan.to_excel(writer, sheet_name=\"Prüfungsplan\", index=False)\n",
    "worksheet = writer.sheets[\"Prüfungsplan\"]  # pull worksheet object\n",
    "\n",
    "for idx, col in enumerate(prüfungsplan):  # loop through all columns\n",
    "    series = prüfungsplan[col]\n",
    "    max_len = max((\n",
    "    series.astype(str).map(len).max(),  # len of largest item\n",
    "        len(str(series.name))  # len of column name/header\n",
    "        )) + 1  # adding a little extra space\n",
    "    worksheet.set_column(idx, idx, max_len)  # set column width\n",
    "writer.close()\n",
    "\n",
    "#prüfungsplan.to_excel(prüfungsplan_xls, index=False)\n",
    "print(f\"Erstellen des Prüfungsplans erfolgreich. Output in in {prüfungsplan_csv} und {prüfungsplan_xls}.\")"
   ]
  },
  {
   "cell_type": "markdown",
   "id": "304beec1-7ce3-461b-81ad-71b4146dde00",
   "metadata": {},
   "source": [
    "## 7. Erstellung der Niederschriften\n",
    "\n",
    "Nun werden die Niederschriften in _niederschriften_ordner_ erstellt. Dies geschieht mit _pdflatex_. Alle Dateien außer die pdf-Dateien werden sofort wieder gelöscht. Es bleiben nur die Niederschriften im Ordner, _niederschriften_alle_pdf_ im aktuellen Ordner und _latex_output_, wo der gesamte pdflatex-Output ausgegeben wird. \n",
    "\n",
    "Hierzu wird das Template _niederschriften_template_tex_ verwendet. (Hier wird ein Hintergrundbild eingebunden, das so aussieht wie eine leere Niederschrift.)"
   ]
  },
  {
   "cell_type": "code",
   "execution_count": null,
   "id": "308fc796-e62f-4760-82d9-b318868f88b3",
   "metadata": {
    "tags": []
   },
   "outputs": [],
   "source": [
    "# Input\n",
    "prüfungsplan_csv = \"06_pruefungsplan.csv\"\n",
    "niederschriften_ordner = \"niederschriften\"\n",
    "niederschriften_template_tex = \"niederschrift-template.tex\"\n",
    "latex_output = \"07_output.log\"\n",
    "\n",
    "# Output\n",
    "niederschiften_alle_pdf = \"07_alle_niederschriften.pdf\"\n",
    "\n",
    "# Ausführung\n",
    "# Wie oben müssen wir das wichtige Skript laufen lassn.\n",
    "%run einteilung.py\n",
    "    \n",
    "make_niederschriften(prüfungsplan_csv, niederschriften_ordner, niederschriften_template_tex, latex_output, niederschiften_alle_pdf)\n"
   ]
  },
  {
   "cell_type": "code",
   "execution_count": null,
   "id": "d06177f5-2872-4919-9dc0-9140d6ee8ebd",
   "metadata": {},
   "outputs": [],
   "source": []
  }
 ],
 "metadata": {
  "kernelspec": {
   "display_name": "venv",
   "language": "python",
   "name": "venv"
  },
  "language_info": {
   "codemirror_mode": {
    "name": "ipython",
    "version": 3
   },
   "file_extension": ".py",
   "mimetype": "text/x-python",
   "name": "python",
   "nbconvert_exporter": "python",
   "pygments_lexer": "ipython3",
   "version": "3.8.10"
  },
  "vscode": {
   "interpreter": {
    "hash": "916dbcbb3f70747c44a77c7bcd40155683ae19c65e1c03b4aa3499c5328201f1"
   }
  }
 },
 "nbformat": 4,
 "nbformat_minor": 5
}
